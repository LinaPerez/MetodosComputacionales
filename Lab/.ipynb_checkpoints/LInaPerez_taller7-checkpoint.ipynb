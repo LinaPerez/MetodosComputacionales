{
 "metadata": {
  "name": "",
  "signature": "sha256:c4924742a2a1c52e33be1a2f7a1e76991490538f1dc90716da6423c425be7b66"
 },
 "nbformat": 3,
 "nbformat_minor": 0,
 "worksheets": [
  {
   "cells": [
    {
     "cell_type": "code",
     "collapsed": false,
     "input": [
      "%pylab inline\n"
     ],
     "language": "python",
     "metadata": {},
     "outputs": [
      {
       "output_type": "stream",
       "stream": "stdout",
       "text": [
        "Populating the interactive namespace from numpy and matplotlib\n"
       ]
      }
     ],
     "prompt_number": 97
    },
    {
     "cell_type": "code",
     "collapsed": false,
     "input": [
      "n_x = 80\n",
      "n_t = 100\n",
      "\n",
      "c = 1.0\n",
      "nu = 0.3\n",
      "sigma = 0.2 \n",
      "\n",
      "x = linspace(0, 1.0, n_x)\n",
      "dx = x[1]-x[0]\n",
      "\n",
      "\n",
      "dt = sigma*dx**2/nu \n",
      "alpha = dt/dx**2\n",
      "print dt\n",
      "\n",
      "u = zeros(n_x)\n",
      "\n",
      "u[where((x<0.66) & (x>0.33))] = 1.0"
     ],
     "language": "python",
     "metadata": {},
     "outputs": [
      {
       "output_type": "stream",
       "stream": "stdout",
       "text": [
        "0.00010682048817\n"
       ]
      }
     ],
     "prompt_number": 98
    },
    {
     "cell_type": "code",
     "collapsed": false,
     "input": [
      "plot(x,u)\n",
      "ylim([-0.1,1.5])"
     ],
     "language": "python",
     "metadata": {},
     "outputs": [
      {
       "metadata": {},
       "output_type": "pyout",
       "prompt_number": 99,
       "text": [
        "(-0.1, 1.5)"
       ]
      },
      {
       "metadata": {},
       "output_type": "display_data",
       "png": "[encoded data removed]",
       "text": [
        "<matplotlib.figure.Figure at 0x1d4ead0>"
       ]
      }
     ],
     "prompt_number": 99
    },
    {
     "cell_type": "code",
     "collapsed": false,
     "input": [
      "for n in range(n_t):  # loop over time\n",
      "    u_past = u.copy() \n",
      "    for i in range(1,n_x-1): #loop over space\n",
      "        u[i] = nu * alpha * u_past[i+1]  + (1.0 - 2.0*nu*alpha)*u_past[i] + nu*alpha*u_past[i-1]"
     ],
     "language": "python",
     "metadata": {},
     "outputs": [],
     "prompt_number": 100
    },
    {
     "cell_type": "code",
     "collapsed": false,
     "input": [
      "plot(x,u)\n",
      "#ylim([-0.1,1.5])"
     ],
     "language": "python",
     "metadata": {},
     "outputs": [
      {
       "metadata": {},
       "output_type": "pyout",
       "prompt_number": 101,
       "text": [
        "[<matplotlib.lines.Line2D at 0x5d2abd0>]"
       ]
      },
      {
       "metadata": {},
       "output_type": "display_data",
       "png": "[encoded data removed]",
       "text": [
        "<matplotlib.figure.Figure at 0x5929810>"
       ]
      }
     ],
     "prompt_number": 101
    },
    {
     "cell_type": "code",
     "collapsed": false,
     "input": [
      "data = loadtxt('datos_difusion.txt')\n",
      "x1 = data[:,0]\n",
      "y1 = data[:,1]\n",
      "plot(x1, y1)\n",
      "ylim([-1.0, 1.5])"
     ],
     "language": "python",
     "metadata": {},
     "outputs": [
      {
       "metadata": {},
       "output_type": "pyout",
       "prompt_number": 103,
       "text": [
        "(-1.0, 1.5)"
       ]
      },
      {
       "metadata": {},
       "output_type": "display_data",
       "png": "[encoded data removed]",
       "text": [
        "<matplotlib.figure.Figure at 0x5d32450>"
       ]
      }
     ],
     "prompt_number": 103
    },
    {
     "cell_type": "code",
     "collapsed": false,
     "input": [],
     "language": "python",
     "metadata": {},
     "outputs": [],
     "prompt_number": 102
    },
    {
     "cell_type": "code",
     "collapsed": false,
     "input": [],
     "language": "python",
     "metadata": {},
     "outputs": []
    }
   ],
   "metadata": {}
  }
 ]
}